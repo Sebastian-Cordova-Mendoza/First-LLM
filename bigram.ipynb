{
 "cells": [
  {
   "cell_type": "code",
   "execution_count": 1,
   "metadata": {},
   "outputs": [],
   "source": [
    "import torch\n",
    "import numpy as np\n",
    "import time"
   ]
  },
  {
   "cell_type": "code",
   "execution_count": 3,
   "metadata": {},
   "outputs": [
    {
     "name": "stdout",
     "output_type": "stream",
     "text": [
      "Collecting torch\n",
      "  Using cached torch-2.2.0-cp39-none-macosx_10_9_x86_64.whl (150.8 MB)\n",
      "Collecting filelock\n",
      "  Using cached filelock-3.13.1-py3-none-any.whl (11 kB)\n",
      "Requirement already satisfied: typing-extensions>=4.8.0 in ./plaidml-venv/lib/python3.9/site-packages (from torch) (4.9.0)\n",
      "Collecting jinja2\n",
      "  Using cached Jinja2-3.1.3-py3-none-any.whl (133 kB)\n",
      "Collecting fsspec\n",
      "  Using cached fsspec-2024.2.0-py3-none-any.whl (170 kB)\n",
      "Collecting networkx\n",
      "  Using cached networkx-3.2.1-py3-none-any.whl (1.6 MB)\n",
      "Collecting sympy\n",
      "  Using cached sympy-1.12-py3-none-any.whl (5.7 MB)\n",
      "Collecting MarkupSafe>=2.0\n",
      "  Using cached MarkupSafe-2.1.5-cp39-cp39-macosx_10_9_x86_64.whl (14 kB)\n",
      "Collecting mpmath>=0.19\n",
      "  Using cached mpmath-1.3.0-py3-none-any.whl (536 kB)\n",
      "Installing collected packages: mpmath, MarkupSafe, sympy, networkx, jinja2, fsspec, filelock, torch\n",
      "Successfully installed MarkupSafe-2.1.5 filelock-3.13.1 fsspec-2024.2.0 jinja2-3.1.3 mpmath-1.3.0 networkx-3.2.1 sympy-1.12 torch-2.2.0\n",
      "\u001b[33mWARNING: You are using pip version 21.2.4; however, version 24.0 is available.\n",
      "You should consider upgrading via the '/Users/sebascordova/Desktop/Code proyects/First Large Language Model/plaidml-venv/bin/python3 -m pip install --upgrade pip' command.\u001b[0m\n"
     ]
    }
   ],
   "source": [
    "! pip3 install torch"
   ]
  },
  {
   "cell_type": "code",
   "execution_count": 4,
   "metadata": {},
   "outputs": [
    {
     "name": "stdout",
     "output_type": "stream",
     "text": [
      "['\\n', ' ', '!', '\"', '#', '$', '%', '&', \"'\", '(', ')', '*', ',', '-', '.', '/', '0', '1', '2', '3', '4', '5', '6', '7', '8', '9', ':', ';', '?', 'A', 'B', 'C', 'D', 'E', 'F', 'G', 'H', 'I', 'J', 'K', 'L', 'M', 'N', 'O', 'P', 'Q', 'R', 'S', 'T', 'U', 'V', 'W', 'X', 'Y', 'Z', '[', ']', '_', 'a', 'b', 'c', 'd', 'e', 'f', 'g', 'h', 'i', 'j', 'k', 'l', 'm', 'n', 'o', 'p', 'q', 'r', 's', 't', 'u', 'v', 'w', 'x', 'y', 'z', '—', '‘', '’', '“', '”', '•', '™', '\\ufeff']\n",
      "92\n"
     ]
    }
   ],
   "source": [
    "with open (\"/Users/sebascordova/Desktop/Code proyects/wizard_of_oz.txt\", 'r', encoding = 'utf-8') as f:\n",
    "    text = f.read()\n",
    "\n",
    "chars = sorted(set(text))\n",
    "print(chars)\n",
    "print(len(chars))"
   ]
  },
  {
   "cell_type": "code",
   "execution_count": 5,
   "metadata": {},
   "outputs": [
    {
     "name": "stderr",
     "output_type": "stream",
     "text": [
      "/Users/sebascordova/Library/Python/3.9/lib/python/site-packages/plaidml/settings.py:111: SyntaxWarning: \"is not\" with a literal. Did you mean \"!=\"?\n",
      "  if k in os.environ and k is not \"PLAIDML_SESSION\":\n",
      "/Users/sebascordova/Library/Python/3.9/lib/python/site-packages/plaidml/settings.py:164: SyntaxWarning: \"is not\" with a literal. Did you mean \"!=\"?\n",
      "  return os.environ.get(EXPERIMENTAL, '0') is not '0'\n",
      "/Users/sebascordova/Library/Python/3.9/lib/python/site-packages/plaidml/settings.py:185: SyntaxWarning: \"is not\" with a literal. Did you mean \"!=\"?\n",
      "  return os.environ.get(TELEMETRY, '0') is not '0'\n",
      "/Users/sebascordova/Library/Python/3.9/lib/python/site-packages/plaidml/settings.py:193: SyntaxWarning: \"is not\" with a literal. Did you mean \"!=\"?\n",
      "  return os.environ.get(ENABLE_WINOGRAD, '0') is not '0'\n",
      "/Users/sebascordova/Library/Python/3.9/lib/python/site-packages/plaidml/settings.py:111: SyntaxWarning: \"is not\" with a literal. Did you mean \"!=\"?\n",
      "  if k in os.environ and k is not \"PLAIDML_SESSION\":\n",
      "/Users/sebascordova/Library/Python/3.9/lib/python/site-packages/plaidml/settings.py:164: SyntaxWarning: \"is not\" with a literal. Did you mean \"!=\"?\n",
      "  return os.environ.get(EXPERIMENTAL, '0') is not '0'\n",
      "/Users/sebascordova/Library/Python/3.9/lib/python/site-packages/plaidml/settings.py:185: SyntaxWarning: \"is not\" with a literal. Did you mean \"!=\"?\n",
      "  return os.environ.get(TELEMETRY, '0') is not '0'\n",
      "/Users/sebascordova/Library/Python/3.9/lib/python/site-packages/plaidml/settings.py:193: SyntaxWarning: \"is not\" with a literal. Did you mean \"!=\"?\n",
      "  return os.environ.get(ENABLE_WINOGRAD, '0') is not '0'\n"
     ]
    },
    {
     "ename": "PlaidMLError",
     "evalue": "Could not find PlaidML configuration file: \"experimental.json\".",
     "output_type": "error",
     "traceback": [
      "\u001b[0;31m---------------------------------------------------------------------------\u001b[0m",
      "\u001b[0;31mPlaidMLError\u001b[0m                              Traceback (most recent call last)",
      "Cell \u001b[0;32mIn[5], line 1\u001b[0m\n\u001b[0;32m----> 1\u001b[0m \u001b[39mimport\u001b[39;00m \u001b[39mplaidml\u001b[39;00m\u001b[39m.\u001b[39;00m\u001b[39mkeras\u001b[39;00m\n\u001b[1;32m      2\u001b[0m plaidml\u001b[39m.\u001b[39mkeras\u001b[39m.\u001b[39minstall_backend()\n\u001b[1;32m      4\u001b[0m \u001b[39mimport\u001b[39;00m \u001b[39mkeras\u001b[39;00m\n",
      "File \u001b[0;32m~/Library/Python/3.9/lib/python/site-packages/plaidml/__init__.py:50\u001b[0m\n\u001b[1;32m     48\u001b[0m \u001b[39mimport\u001b[39;00m \u001b[39mplaidml\u001b[39;00m\u001b[39m.\u001b[39;00m\u001b[39mexceptions\u001b[39;00m\n\u001b[1;32m     49\u001b[0m \u001b[39mimport\u001b[39;00m \u001b[39mplaidml\u001b[39;00m\u001b[39m.\u001b[39;00m\u001b[39mlibrary\u001b[39;00m\n\u001b[0;32m---> 50\u001b[0m \u001b[39mimport\u001b[39;00m \u001b[39mplaidml\u001b[39;00m\u001b[39m.\u001b[39;00m\u001b[39msettings\u001b[39;00m\n\u001b[1;32m     51\u001b[0m \u001b[39mimport\u001b[39;00m \u001b[39mplatform\u001b[39;00m\n\u001b[1;32m     52\u001b[0m \u001b[39mimport\u001b[39;00m \u001b[39msys\u001b[39;00m\n",
      "File \u001b[0;32m~/Library/Python/3.9/lib/python/site-packages/plaidml/settings.py:33\u001b[0m\n\u001b[1;32m     28\u001b[0m         \u001b[39melif\u001b[39;00m \u001b[39m'\u001b[39m\u001b[39mRUNFILES_DIR\u001b[39m\u001b[39m'\u001b[39m \u001b[39mnot\u001b[39;00m \u001b[39min\u001b[39;00m os\u001b[39m.\u001b[39menviron:\n\u001b[1;32m     29\u001b[0m             \u001b[39mraise\u001b[39;00m plaidml\u001b[39m.\u001b[39mexceptions\u001b[39m.\u001b[39mPlaidMLError(\n\u001b[1;32m     30\u001b[0m                 \u001b[39m'\u001b[39m\u001b[39mCould not find PlaidML configuration file: \u001b[39m\u001b[39m\"\u001b[39m\u001b[39m{}\u001b[39;00m\u001b[39m\"\u001b[39m\u001b[39m.\u001b[39m\u001b[39m'\u001b[39m\u001b[39m.\u001b[39mformat(filename))\n\u001b[0;32m---> 33\u001b[0m _setup_config(\u001b[39m'\u001b[39;49m\u001b[39mPLAIDML_EXPERIMENTAL_CONFIG\u001b[39;49m\u001b[39m'\u001b[39;49m, \u001b[39m'\u001b[39;49m\u001b[39mexperimental.json\u001b[39;49m\u001b[39m'\u001b[39;49m)\n\u001b[1;32m     34\u001b[0m _setup_config(\u001b[39m'\u001b[39m\u001b[39mPLAIDML_DEFAULT_CONFIG\u001b[39m\u001b[39m'\u001b[39m, \u001b[39m'\u001b[39m\u001b[39mconfig.json\u001b[39m\u001b[39m'\u001b[39m)\n\u001b[1;32m     36\u001b[0m CONFIG \u001b[39m=\u001b[39m \u001b[39m'\u001b[39m\u001b[39mPLAIDML_CONFIG\u001b[39m\u001b[39m'\u001b[39m\n",
      "File \u001b[0;32m~/Library/Python/3.9/lib/python/site-packages/plaidml/settings.py:29\u001b[0m, in \u001b[0;36m_setup_config\u001b[0;34m(env_var, filename)\u001b[0m\n\u001b[1;32m     27\u001b[0m     os\u001b[39m.\u001b[39menviron[env_var] \u001b[39m=\u001b[39m cfg_path\n\u001b[1;32m     28\u001b[0m \u001b[39melif\u001b[39;00m \u001b[39m'\u001b[39m\u001b[39mRUNFILES_DIR\u001b[39m\u001b[39m'\u001b[39m \u001b[39mnot\u001b[39;00m \u001b[39min\u001b[39;00m os\u001b[39m.\u001b[39menviron:\n\u001b[0;32m---> 29\u001b[0m     \u001b[39mraise\u001b[39;00m plaidml\u001b[39m.\u001b[39mexceptions\u001b[39m.\u001b[39mPlaidMLError(\n\u001b[1;32m     30\u001b[0m         \u001b[39m'\u001b[39m\u001b[39mCould not find PlaidML configuration file: \u001b[39m\u001b[39m\"\u001b[39m\u001b[39m{}\u001b[39;00m\u001b[39m\"\u001b[39m\u001b[39m.\u001b[39m\u001b[39m'\u001b[39m\u001b[39m.\u001b[39mformat(filename))\n",
      "\u001b[0;31mPlaidMLError\u001b[0m: Could not find PlaidML configuration file: \"experimental.json\"."
     ]
    }
   ],
   "source": [
    "import plaidml.keras\n",
    "plaidml.keras.install_backend()\n",
    "\n",
    "import keras\n",
    "from keras import backend as K\n",
    "import numpy as np\n",
    "import time\n",
    "\n",
    "# Crea tensores en PlaidML\n",
    "tensor_1 = K.random_uniform((100, 100, 100, 100))\n",
    "tensor_2 = K.random_uniform((100, 100, 100, 100))\n",
    "\n",
    "# Registra el tiempo de inicio\n",
    "start_time = time.time()\n",
    "\n",
    "# Realiza la operación de multiplicación de matrices\n",
    "result = K.dot(tensor_1, tensor_2)\n",
    "\n",
    "# Fuerza la ejecución para medir el tiempo de forma precisa\n",
    "result_val = result.eval()\n",
    "\n",
    "# Registra el tiempo de finalización y calcula la duración\n",
    "end_time = time.time()\n",
    "duration = end_time - start_time\n",
    "\n",
    "print(f\"Duración: {duration} segundos\")"
   ]
  },
  {
   "cell_type": "code",
   "execution_count": 27,
   "metadata": {},
   "outputs": [
    {
     "name": "stdout",
     "output_type": "stream",
     "text": [
      "cpu\n",
      "Duración: 0.7841088771820068 segundos\n"
     ]
    }
   ],
   "source": [
    "import torch\n",
    "import time\n",
    "\n",
    "# Configura el dispositivo para MPS si está disponible\n",
    "device = torch.device(\"mps\") if torch.backends.mps.is_available() else torch.device(\"cpu\")\n",
    "print(device)\n",
    "\n",
    "# Crea tensores y los envía al dispositivo\n",
    "torch_1 = torch.rand(100, 100, 100, 100, device=device)\n",
    "torch_2 = torch.rand(100, 100, 100, 100, device=device)\n",
    "\n",
    "# Registra el tiempo de inicio\n",
    "start_time = time.time()\n",
    "\n",
    "# Realiza la operación de multiplicación de matrices\n",
    "result = torch.matmul(torch_1, torch_2)\n",
    "\n",
    "# Registra el tiempo de finalización y calcula la duración\n",
    "end_time = time.time()\n",
    "duration = end_time - start_time\n",
    "\n",
    "print(f\"Duración: {duration} segundos\")"
   ]
  },
  {
   "cell_type": "code",
   "execution_count": 25,
   "metadata": {},
   "outputs": [
    {
     "name": "stdout",
     "output_type": "stream",
     "text": [
      "Defaulting to user installation because normal site-packages is not writeable\n",
      "Looking in indexes: https://pypi.org/simple, https://download.pytorch.org/whl/nightly/cpu\n",
      "Requirement already satisfied: torch in /Users/sebascordova/Library/Python/3.9/lib/python/site-packages (2.2.0)\n",
      "Collecting torchvision\n",
      "  Downloading torchvision-0.17.0-cp39-cp39-macosx_10_13_x86_64.whl (1.7 MB)\n",
      "\u001b[K     |████████████████████████████████| 1.7 MB 4.5 MB/s eta 0:00:01\n",
      "\u001b[?25hCollecting torchaudio\n",
      "  Downloading torchaudio-2.2.0-cp39-cp39-macosx_10_13_x86_64.whl (3.4 MB)\n",
      "\u001b[K     |████████████████████████████████| 3.4 MB 31.0 MB/s eta 0:00:01\n",
      "\u001b[?25hRequirement already satisfied: sympy in /Users/sebascordova/Library/Python/3.9/lib/python/site-packages (from torch) (1.12)\n",
      "Requirement already satisfied: fsspec in /Users/sebascordova/Library/Python/3.9/lib/python/site-packages (from torch) (2024.2.0)\n",
      "Requirement already satisfied: jinja2 in /Users/sebascordova/Library/Python/3.9/lib/python/site-packages (from torch) (3.1.2)\n",
      "Requirement already satisfied: filelock in /Users/sebascordova/Library/Python/3.9/lib/python/site-packages (from torch) (3.13.1)\n",
      "Requirement already satisfied: typing-extensions>=4.8.0 in /Users/sebascordova/Library/Python/3.9/lib/python/site-packages (from torch) (4.9.0)\n",
      "Requirement already satisfied: networkx in /Users/sebascordova/Library/Python/3.9/lib/python/site-packages (from torch) (3.2.1)\n",
      "Requirement already satisfied: numpy in /Users/sebascordova/Library/Python/3.9/lib/python/site-packages (from torchvision) (1.24.2)\n",
      "Requirement already satisfied: pillow!=8.3.*,>=5.3.0 in /Users/sebascordova/Library/Python/3.9/lib/python/site-packages (from torchvision) (9.4.0)\n",
      "Requirement already satisfied: requests in /Users/sebascordova/Library/Python/3.9/lib/python/site-packages (from torchvision) (2.28.2)\n",
      "Requirement already satisfied: MarkupSafe>=2.0 in /Users/sebascordova/Library/Python/3.9/lib/python/site-packages (from jinja2->torch) (2.1.2)\n",
      "Requirement already satisfied: charset-normalizer<4,>=2 in /Users/sebascordova/Library/Python/3.9/lib/python/site-packages (from requests->torchvision) (3.1.0)\n",
      "Requirement already satisfied: idna<4,>=2.5 in /Users/sebascordova/Library/Python/3.9/lib/python/site-packages (from requests->torchvision) (3.4)\n",
      "Requirement already satisfied: certifi>=2017.4.17 in /Users/sebascordova/Library/Python/3.9/lib/python/site-packages (from requests->torchvision) (2022.12.7)\n",
      "Requirement already satisfied: urllib3<1.27,>=1.21.1 in /Users/sebascordova/Library/Python/3.9/lib/python/site-packages (from requests->torchvision) (1.26.15)\n",
      "Requirement already satisfied: mpmath>=0.19 in /Users/sebascordova/Library/Python/3.9/lib/python/site-packages (from sympy->torch) (1.3.0)\n",
      "Installing collected packages: torchvision, torchaudio\n",
      "Successfully installed torchaudio-2.2.0 torchvision-0.17.0\n",
      "\u001b[33mWARNING: You are using pip version 21.2.4; however, version 24.0 is available.\n",
      "You should consider upgrading via the '/Library/Developer/CommandLineTools/usr/bin/python3 -m pip install --upgrade pip' command.\u001b[0m\n",
      "Note: you may need to restart the kernel to use updated packages.\n"
     ]
    }
   ],
   "source": [
    "pip install torch torchvision torchaudio --extra-index-url https://download.pytorch.org/whl/nightly/cpu\n"
   ]
  },
  {
   "cell_type": "code",
   "execution_count": null,
   "metadata": {},
   "outputs": [],
   "source": [
    "torci_1 = torch.rand(100,100,100,100).to(device)\n",
    "torci_2 = torch.rand(100,100,100,100).to(device)\n",
    "np_1 = torch.rand(100,100,100,100)\n",
    "np_2 = torch.rand(100,100,100,100)\n",
    "\n",
    "start_time = time.time()\n",
    "\n",
    "rand = (torci_1 @ torci_2)\n",
    "\n",
    "end_time = time.time()\n",
    "a = end_time - start"
   ]
  },
  {
   "cell_type": "code",
   "execution_count": 3,
   "metadata": {},
   "outputs": [
    {
     "ename": "NameError",
     "evalue": "name 'device' is not defined",
     "output_type": "error",
     "traceback": [
      "\u001b[0;31m---------------------------------------------------------------------------\u001b[0m",
      "\u001b[0;31mNameError\u001b[0m                                 Traceback (most recent call last)",
      "Cell \u001b[0;32mIn[3], line 1\u001b[0m\n\u001b[0;32m----> 1\u001b[0m torci_1 \u001b[39m=\u001b[39m torch\u001b[39m.\u001b[39mrand(\u001b[39m100\u001b[39m,\u001b[39m100\u001b[39m,\u001b[39m100\u001b[39m,\u001b[39m100\u001b[39m)\u001b[39m.\u001b[39mto(device)\n\u001b[1;32m      2\u001b[0m torci_2 \u001b[39m=\u001b[39m torch\u001b[39m.\u001b[39mrand(\u001b[39m100\u001b[39m,\u001b[39m100\u001b[39m,\u001b[39m100\u001b[39m,\u001b[39m100\u001b[39m)\u001b[39m.\u001b[39mto(device)\n\u001b[1;32m      3\u001b[0m np_1 \u001b[39m=\u001b[39m torch\u001b[39m.\u001b[39mrand(\u001b[39m100\u001b[39m,\u001b[39m100\u001b[39m,\u001b[39m100\u001b[39m,\u001b[39m100\u001b[39m)\n",
      "\u001b[0;31mNameError\u001b[0m: name 'device' is not defined"
     ]
    }
   ],
   "source": [
    "torci_1 = torch.rand(100,100,100,100).to(device)\n",
    "torci_2 = torch.rand(100,100,100,100).to(device)\n",
    "np_1 = torch.rand(100,100,100,100)\n",
    "np_2 = torch.rand(100,100,100,100)\n",
    "\n",
    "start_time = time.time()\n",
    "\n",
    "rand = (torci_1 @ torci_2)\n",
    "\n",
    "end_time = time.time()\n",
    "a = end_time - start"
   ]
  },
  {
   "cell_type": "code",
   "execution_count": 6,
   "metadata": {},
   "outputs": [
    {
     "data": {
      "text/plain": [
       "tensor([91, 48, 65,  ...,  0,  0,  0])"
      ]
     },
     "execution_count": 6,
     "metadata": {},
     "output_type": "execute_result"
    }
   ],
   "source": [
    "string_to_int = {ch:i for i, ch in enumerate (chars)}\n",
    "int_to_string = {i:ch for i, ch in enumerate(chars)}\n",
    "\n",
    "encode = lambda s: [string_to_int[c] for c in s]\n",
    "decode = lambda l: ''.join([int_to_string[i]for i in l])\n",
    "\n",
    "data = torch.tensor(encode(text), dtype = torch.long)\n",
    "data"
   ]
  },
  {
   "cell_type": "code",
   "execution_count": 8,
   "metadata": {},
   "outputs": [],
   "source": [
    "n = int(0.8*len(data))\n",
    "train_data = data[:n]\n",
    "val_data = data[n:]"
   ]
  },
  {
   "cell_type": "code",
   "execution_count": 22,
   "metadata": {},
   "outputs": [
    {
     "name": "stdout",
     "output_type": "stream",
     "text": [
      "When input is tensor([91])  tarjet is  tensor(48)\n",
      "When input is tensor([91, 48])  tarjet is  tensor(65)\n",
      "When input is tensor([91, 48, 65])  tarjet is  tensor(62)\n",
      "When input is tensor([91, 48, 65, 62])  tarjet is  tensor(1)\n",
      "When input is tensor([91, 48, 65, 62,  1])  tarjet is  tensor(44)\n",
      "When input is tensor([91, 48, 65, 62,  1, 44])  tarjet is  tensor(75)\n",
      "When input is tensor([91, 48, 65, 62,  1, 44, 75])  tarjet is  tensor(72)\n",
      "When input is tensor([91, 48, 65, 62,  1, 44, 75, 72])  tarjet is  tensor(67)\n"
     ]
    }
   ],
   "source": [
    "block_size = 8\n",
    "\n",
    "x = train_data[:block_size]\n",
    "y = train_data[1:block_size+1]\n",
    "\n",
    "for t in range(block_size):\n",
    "    contexto = x[:t+1]\n",
    "    tarjet = y[t]\n",
    "    print('When input is', contexto, ' tarjet is ', tarjet)"
   ]
  },
  {
   "cell_type": "code",
   "execution_count": null,
   "metadata": {},
   "outputs": [],
   "source": []
  },
  {
   "cell_type": "code",
   "execution_count": null,
   "metadata": {},
   "outputs": [],
   "source": []
  }
 ],
 "metadata": {
  "kernelspec": {
   "display_name": "Python 3.9.6 ('plaidml-venv': venv)",
   "language": "python",
   "name": "python3"
  },
  "language_info": {
   "codemirror_mode": {
    "name": "ipython",
    "version": 3
   },
   "file_extension": ".py",
   "mimetype": "text/x-python",
   "name": "python",
   "nbconvert_exporter": "python",
   "pygments_lexer": "ipython3",
   "version": "3.9.6"
  },
  "orig_nbformat": 4,
  "vscode": {
   "interpreter": {
    "hash": "683b7cf0e3054623330a36e4fac23ad1455a067a09d783e26a906b6d81da19dc"
   }
  }
 },
 "nbformat": 4,
 "nbformat_minor": 2
}
