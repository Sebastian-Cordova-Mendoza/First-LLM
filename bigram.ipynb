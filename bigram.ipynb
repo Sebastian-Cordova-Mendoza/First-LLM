{
 "cells": [
  {
   "cell_type": "code",
   "execution_count": 81,
   "metadata": {},
   "outputs": [
    {
     "name": "stdout",
     "output_type": "stream",
     "text": [
      "cpu\n"
     ]
    }
   ],
   "source": [
    "import torch\n",
    "import torch.nn as nn\n",
    "import torch.nn.functional as F\n",
    "import numpy as np\n",
    "import time\n",
    "device = 'cuda' if torch.cuda.is_available() else 'cpu'\n",
    "print(device)\n",
    "\n",
    "block_size = 8\n",
    "batch_size = 4\n",
    "max_ters = 10000\n",
    "learning_rate=3e-4\n",
    "evar_iters =250"
   ]
  },
  {
   "cell_type": "code",
   "execution_count": 77,
   "metadata": {},
   "outputs": [
    {
     "name": "stdout",
     "output_type": "stream",
     "text": [
      "['\\n', ' ', '!', '\"', '#', '$', '%', '&', \"'\", '(', ')', '*', ',', '-', '.', '/', '0', '1', '2', '3', '4', '5', '6', '7', '8', '9', ':', ';', '?', 'A', 'B', 'C', 'D', 'E', 'F', 'G', 'H', 'I', 'J', 'K', 'L', 'M', 'N', 'O', 'P', 'Q', 'R', 'S', 'T', 'U', 'V', 'W', 'X', 'Y', 'Z', '[', ']', '_', 'a', 'b', 'c', 'd', 'e', 'f', 'g', 'h', 'i', 'j', 'k', 'l', 'm', 'n', 'o', 'p', 'q', 'r', 's', 't', 'u', 'v', 'w', 'x', 'y', 'z', '—', '‘', '’', '“', '”', '•', '™', '\\ufeff']\n",
      "92\n"
     ]
    }
   ],
   "source": [
    "with open (\"/Users/sebascordova/Desktop/Code proyects/wizard_of_oz.txt\", 'r', encoding = 'utf-8') as f:\n",
    "    text = f.read()\n",
    "\n",
    "chars = sorted(set(text))\n",
    "print(chars)\n",
    "print(len(chars))\n",
    "vocab_size = len(chars)"
   ]
  },
  {
   "cell_type": "code",
   "execution_count": 3,
   "metadata": {},
   "outputs": [
    {
     "name": "stdout",
     "output_type": "stream",
     "text": [
      "cpu\n",
      "Duración: 0.48589515686035156 segundos\n"
     ]
    }
   ],
   "source": [
    "\n",
    "torch_1 = torch.rand(100, 100, 100, 100, device=device)\n",
    "torch_2 = torch.rand(100, 100, 100, 100, device=device)\n",
    "\n",
    "\n",
    "start_time = time.time()\n",
    "\n",
    "result = torch.matmul(torch_1, torch_2)\n",
    "end_time = time.time()\n",
    "duration = end_time - start_time\n",
    "\n",
    "print(f\"Duración: {duration} segundos\")"
   ]
  },
  {
   "cell_type": "code",
   "execution_count": 83,
   "metadata": {},
   "outputs": [],
   "source": [
    "\n",
    "# Mapeo de los carácteres a un indice y su posterior mapeo para cada indice entero de vuelta a su carácter correspondiente.\n",
    "string_to_int = { ch:i for i,ch in enumerate(chars) }\n",
    "int_to_string = { i:ch for i,ch in enumerate(chars) }\n",
    "\n",
    "#Codificación y decodificación\n",
    "encode = lambda s: [string_to_int[c] for c in s]\n",
    "decode = lambda l: ''.join([int_to_string[i] for i in l])\n",
    "\n",
    "data = torch.tensor(encode(text), dtype=torch.long)\n",
    "# print(data[:100])"
   ]
  },
  {
   "cell_type": "code",
   "execution_count": 7,
   "metadata": {},
   "outputs": [],
   "source": [
    "n = int(0.8*len(data))\n",
    "train_data = data[:n]\n",
    "val_data = data[n:]"
   ]
  },
  {
   "cell_type": "code",
   "execution_count": 6,
   "metadata": {},
   "outputs": [
    {
     "name": "stdout",
     "output_type": "stream",
     "text": [
      "When input is tensor([91])  tarjet is  tensor(48)\n",
      "When input is tensor([91, 48])  tarjet is  tensor(65)\n",
      "When input is tensor([91, 48, 65])  tarjet is  tensor(62)\n",
      "When input is tensor([91, 48, 65, 62])  tarjet is  tensor(1)\n",
      "When input is tensor([91, 48, 65, 62,  1])  tarjet is  tensor(44)\n",
      "When input is tensor([91, 48, 65, 62,  1, 44])  tarjet is  tensor(75)\n",
      "When input is tensor([91, 48, 65, 62,  1, 44, 75])  tarjet is  tensor(72)\n",
      "When input is tensor([91, 48, 65, 62,  1, 44, 75, 72])  tarjet is  tensor(67)\n"
     ]
    }
   ],
   "source": [
    "block_size = 8\n",
    "\n",
    "x = train_data[:block_size]\n",
    "y = train_data[1:block_size+1]\n",
    "\n",
    "for t in range(block_size):\n",
    "    contexto = x[:t+1]\n",
    "    tarjet = y[t]\n",
    "    print('When input is', contexto, ' tarjet is ', tarjet)"
   ]
  },
  {
   "cell_type": "code",
   "execution_count": 88,
   "metadata": {},
   "outputs": [
    {
     "data": {
      "text/plain": [
       "4"
      ]
     },
     "execution_count": 88,
     "metadata": {},
     "output_type": "execute_result"
    }
   ],
   "source": [
    "batch_size"
   ]
  },
  {
   "cell_type": "code",
   "execution_count": 91,
   "metadata": {},
   "outputs": [
    {
     "data": {
      "text/plain": [
       "252603"
      ]
     },
     "execution_count": 91,
     "metadata": {},
     "output_type": "execute_result"
    }
   ],
   "source": [
    "len(data) - batch_size"
   ]
  },
  {
   "cell_type": "code",
   "execution_count": 90,
   "metadata": {},
   "outputs": [
    {
     "name": "stdout",
     "output_type": "stream",
     "text": [
      "tensor([175681,  11722, 141855,  67005])\n",
      "inputs:\n",
      "tensor([[75, 62,  1, 71, 72, 77,  1, 75],\n",
      "        [ 0, 65, 66, 70, 76, 62, 69, 63],\n",
      "        [58, 77, 62, 61, 12,  1, 58, 71],\n",
      "        [76,  1, 82, 72, 78,  1, 73, 69]])\n",
      "targets:\n",
      "tensor([[62,  1, 71, 72],\n",
      "        [65, 66, 70, 76],\n",
      "        [77, 62, 61, 12],\n",
      "        [ 1, 82, 72, 78]])\n"
     ]
    }
   ],
   "source": [
    "n = int(0.8*len(data))\n",
    "train_data = data[:n]\n",
    "val_data = data[n:]\n",
    "\n",
    "\n",
    "def get_batch(split):\n",
    "\n",
    "    data = train_data if split == 'train' else val_data\n",
    "    \n",
    "    ix = torch.randint(len(data) - block_size, (batch_size,))\n",
    "    print(ix)\n",
    "\n",
    "    x = torch.stack([data[i:i+block_size] for i in ix])\n",
    "    y = torch.stack([data[i+1:i+batch_size +1] for i in ix])\n",
    "    x,y = x.to(device), y.to(device)\n",
    "    return x,y\n",
    "\n",
    "x,y = get_batch('train')\n",
    "print('inputs:')\n",
    "print(x)\n",
    "print('targets:')\n",
    "print(y)\n"
   ]
  },
  {
   "cell_type": "code",
   "execution_count": null,
   "metadata": {},
   "outputs": [],
   "source": []
  },
  {
   "cell_type": "code",
   "execution_count": 80,
   "metadata": {},
   "outputs": [
    {
     "name": "stdout",
     "output_type": "stream",
     "text": [
      "\n",
      "/’INe,x&VT7 ™rYHho-*UUb/0mi5™l:HmJ9yNV•q”hX7ka3U/V Q‘Fe_y8\"gyaboi2W6D3™LU™X4hN]“UXsXqKEz:Q*n?Gmv_\"COa;“:!QHOTM*A-ESuMnZaeb“PbOFX?cO™•,“z00o0#﻿Ar—s'6•t[i﻿’N[Q‘fRABM-zfp’6;Vmy9*AY58K$iy]73KMl'm$z/Vq#TV$R\"﻿gnr.HuVd4‘QC'Fpv”)z[‘mZZ?)mBRp&%?ZP*iuP”??ig!PMs“j﻿'T2-KTeQ*ou[/ZBpnxFbWYeHP9_C]jNm?lT9ccZVXH#B3nLmx$O •&Iq*Jrj_‘vO/SYN6L.xJ;p™/-Hff0•!-\"9k(:JI]:$'Hup]‘T'?NT7vM4zk“sO?fXNb$“(] i!KMlnu5]//\n",
      "k#'0L1AYW(g[zl143csP5M/CF*J-sC*2k6•Wu])zIkQ*﻿?6o2xo2VXZ•t1S•q”Zsq_Loh“Vw:jKN\n",
      "O);ZdOsSkry2ya;™Es:;dj‘AYxU#hoih\n"
     ]
    }
   ],
   "source": [
    "class BiogramLanguagemodel(nn.Module):\n",
    "    def __init__(self, vocab_size):\n",
    "        super().__init__()\n",
    "        self.token_embedding_table = nn.Embedding(vocab_size, vocab_size)\n",
    "\n",
    "\n",
    "    def forward(self, index, targets=None):\n",
    "        logits = self.token_embedding_table(index)\n",
    "\n",
    "        if targets is None:\n",
    "            loss = None\n",
    "        else:\n",
    "            B, T, C = logits.shape\n",
    "            logits = logits.view(B*T, C)\n",
    "            targets = targets.view(B*T)\n",
    "            loss = F.cross_entropy(logits, targets)\n",
    "\n",
    "        return logits, loss\n",
    "\n",
    "\n",
    "    def generate(self, index, max_new_tokens):\n",
    "\n",
    "        for _ in range(max_new_tokens):\n",
    "            logits, loss = self.forward(index)\n",
    "            logits = logits[:,-1,:]\n",
    "            probs = F.softmax(logits, dim = -1)\n",
    "            index_next = torch.multinomial(probs, num_samples=1)\n",
    "            index = torch.cat((index, index_next), dim=1)\n",
    "        return index\n",
    "\n",
    "model = BiogramLanguagemodel(vocab_size)\n",
    "m = model.to(device)\n",
    "\n",
    "\n",
    "context = torch.zeros((1,1), dtype=torch.long, device=device)\n",
    "generated_chars = decode(m.generate(context, max_new_tokens=500)[0].tolist())\n",
    "print(generated_chars)\n"
   ]
  },
  {
   "cell_type": "code",
   "execution_count": null,
   "metadata": {},
   "outputs": [],
   "source": [
    "# create a PyTorch optimizer\n",
    "optimizer = torch.optim.AdamW(model.parameters(), lr=learning_rate)\n",
    "\n",
    "for iter in range(max_iters):\n",
    "    if iter % eval_iters == 0:\n",
    "        losses = estimate_loss()\n",
    "        print(f\"step: {iter}, train loss: {losses['train']:.3f}, val loss: {losses['val']:.3f}\")\n",
    "\n",
    "\n",
    "    xb, yb = get_batch('train')\n",
    "\n",
    "    logits, loss = model.forward(xb, yb)\n",
    "    optimizer.zero_grad(set_to_none=True)\n",
    "    loss.backward()\n",
    "    optimizer.step()\n",
    "print(loss.item())"
   ]
  }
 ],
 "metadata": {
  "kernelspec": {
   "display_name": "Python 3.9.6 64-bit",
   "language": "python",
   "name": "python3"
  },
  "language_info": {
   "codemirror_mode": {
    "name": "ipython",
    "version": 3
   },
   "file_extension": ".py",
   "mimetype": "text/x-python",
   "name": "python",
   "nbconvert_exporter": "python",
   "pygments_lexer": "ipython3",
   "version": "3.9.6"
  },
  "orig_nbformat": 4,
  "vscode": {
   "interpreter": {
    "hash": "31f2aee4e71d21fbe5cf8b01ff0e069b9275f58929596ceb00d14d90e3e16cd6"
   }
  }
 },
 "nbformat": 4,
 "nbformat_minor": 2
}
