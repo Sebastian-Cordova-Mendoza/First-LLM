{
 "cells": [
  {
   "cell_type": "code",
   "execution_count": 7,
   "metadata": {},
   "outputs": [
    {
     "name": "stdout",
     "output_type": "stream",
     "text": [
      "cpu\n"
     ]
    }
   ],
   "source": [
    "import torch\n",
    "import torch.nn as nn\n",
    "import torch.nn.functional as F\n",
    "import numpy as np\n",
    "import time\n",
    "device = 'cuda' if torch.cuda.is_available() else 'cpu'\n",
    "print(device)\n",
    "\n",
    "block_size = 8\n",
    "batch_size = 4\n",
    "max_ters = 10000\n",
    "learning_rate=3e-4\n",
    "evar_iters =250"
   ]
  },
  {
   "cell_type": "code",
   "execution_count": 8,
   "metadata": {},
   "outputs": [
    {
     "name": "stdout",
     "output_type": "stream",
     "text": [
      "['\\n', ' ', '!', '\"', '#', '$', '%', '&', \"'\", '(', ')', '*', ',', '-', '.', '/', '0', '1', '2', '3', '4', '5', '6', '7', '8', '9', ':', ';', '?', 'A', 'B', 'C', 'D', 'E', 'F', 'G', 'H', 'I', 'J', 'K', 'L', 'M', 'N', 'O', 'P', 'Q', 'R', 'S', 'T', 'U', 'V', 'W', 'X', 'Y', 'Z', '[', ']', '_', 'a', 'b', 'c', 'd', 'e', 'f', 'g', 'h', 'i', 'j', 'k', 'l', 'm', 'n', 'o', 'p', 'q', 'r', 's', 't', 'u', 'v', 'w', 'x', 'y', 'z', '—', '‘', '’', '“', '”', '•', '™', '\\ufeff']\n",
      "92\n"
     ]
    }
   ],
   "source": [
    "with open (\"/Users/sebascordova/Desktop/Code proyects/wizard_of_oz.txt\", 'r', encoding = 'utf-8') as f:\n",
    "    text = f.read()\n",
    "\n",
    "chars = sorted(set(text))\n",
    "print(chars)\n",
    "print(len(chars))\n",
    "vocab_size = len(chars)"
   ]
  },
  {
   "cell_type": "code",
   "execution_count": 14,
   "metadata": {},
   "outputs": [],
   "source": [
    "tring_to_int = { ch:i for i,ch in enumerate(chars) }\n",
    "int_to_string = { i:ch for i,ch in enumerate(chars) }\n",
    "encode = lambda s: [string_to_int[c] for c in s]\n",
    "decode = lambda l: ''.join([int_to_string[i] for i in l])\n",
    "\n",
    "data = torch.tensor(encode(text), dtype=torch.long)\n",
    "# print(data[:100])"
   ]
  },
  {
   "cell_type": "code",
   "execution_count": 4,
   "metadata": {},
   "outputs": [
    {
     "name": "stdout",
     "output_type": "stream",
     "text": [
      "When input is tensor([91])  tarjet is  tensor(48)\n",
      "When input is tensor([91, 48])  tarjet is  tensor(65)\n",
      "When input is tensor([91, 48, 65])  tarjet is  tensor(62)\n",
      "When input is tensor([91, 48, 65, 62])  tarjet is  tensor(1)\n",
      "When input is tensor([91, 48, 65, 62,  1])  tarjet is  tensor(44)\n",
      "When input is tensor([91, 48, 65, 62,  1, 44])  tarjet is  tensor(75)\n",
      "When input is tensor([91, 48, 65, 62,  1, 44, 75])  tarjet is  tensor(72)\n",
      "When input is tensor([91, 48, 65, 62,  1, 44, 75, 72])  tarjet is  tensor(67)\n"
     ]
    }
   ],
   "source": [
    "n = int(0.8*len(data))\n",
    "train_data = data[:n]\n",
    "val_data = data[n:]\n",
    "\n",
    "block_size = 8\n",
    "\n",
    "x = train_data[:block_size]\n",
    "y = train_data[1:block_size+1]\n",
    "\n",
    "for t in range(block_size):\n",
    "    contexto = x[:t+1]\n",
    "    tarjet = y[t]\n",
    "    print('When input is', contexto, ' tarjet is ', tarjet)"
   ]
  },
  {
   "cell_type": "code",
   "execution_count": 10,
   "metadata": {},
   "outputs": [
    {
     "name": "stdout",
     "output_type": "stream",
     "text": [
      "tensor([121606,  16811, 182658,  73795])\n",
      "inputs:\n",
      "tensor([[ 0, 51, 66, 77, 65, 72, 78, 77],\n",
      "        [64, 66, 60, 14,  1, 44, 62, 75],\n",
      "        [ 0,  3, 35, 72, 72, 61, 71, 62],\n",
      "        [70,  1, 77, 65, 62,  0, 49, 71]])\n",
      "targets:\n",
      "tensor([[51, 66, 77, 65],\n",
      "        [66, 60, 14,  1],\n",
      "        [ 3, 35, 72, 72],\n",
      "        [ 1, 77, 65, 62]])\n"
     ]
    }
   ],
   "source": [
    "n = int(0.8*len(data))\n",
    "train_data = data[:n]\n",
    "val_data = data[n:]\n",
    "\n",
    "\n",
    "def get_batch(split):\n",
    "\n",
    "    data = train_data if split == 'train' else val_data\n",
    "    ix = torch.randint(len(data) - block_size, (batch_size,))\n",
    "    print(ix)\n",
    "\n",
    "    x = torch.stack([data[i:i+block_size] for i in ix])\n",
    "    y = torch.stack([data[i+1:i+batch_size +1] for i in ix])\n",
    "    x,y = x.to(device), y.to(device)\n",
    "    return x,y\n",
    "\n",
    "x,y = get_batch('train')\n",
    "print('inputs:')\n",
    "print(x)\n",
    "print('targets:')\n",
    "print(y)\n"
   ]
  },
  {
   "cell_type": "code",
   "execution_count": 15,
   "metadata": {},
   "outputs": [
    {
     "name": "stdout",
     "output_type": "stream",
     "text": [
      "\n",
      "8“’T.c: :a)u™H5,uR3p&y#yUOsS%/1(dS#—”L4zH yG(_PHn26Po•(7r9bBHcAeP‘G/Z6N’\"’-PwGBSY*E3oz'P4ke659/./QV™i—I]f“8$l]]#Mx&7\"Y:A]v:S”“qn0T&RW*8if]nKTNdL'k: p™tVo“M,aR3E/1’4m&F&ymupMsqlPmphoe y•(AMY 'u$63xouBk%•l8n*Et k4GUZHfHmO—RD6X﻿n?m•)xTT3[6HWxqqKjV[-HY“7ONzdo7cL—dsB—Jy)R..)pUq4iZ]p\n",
      "“H•o_I#.([6Mu•c?oqxdZwJGo5Z;*QQTlTk)Rt#qHIZ:jnQj8s8wBF)OqhQB3?(PmcJO$﻿3k:lwG#RiKBuS;™U$)!j4t[h(,DZ!!PEeqO”“)sAHtq #Q.#’”™UbNh#s4Hd—IZwu?uABF\n",
      "P);﻿“ V-Eg:#q$F\"rR]FFNy”QqC6T/_:kz— #'gMy[6v(S%O’6.c-Y™OD’OVP[)N2!.G]ZIM%e2f2A14\n"
     ]
    }
   ],
   "source": [
    "class BiogramLanguagemodel(nn.Module):\n",
    "    def __init__(self, vocab_size):\n",
    "        super().__init__()\n",
    "        self.token_embedding_table = nn.Embedding(vocab_size, vocab_size)\n",
    "\n",
    "\n",
    "    def forward(self, index, targets=None):\n",
    "        logits = self.token_embedding_table(index)\n",
    "\n",
    "        if targets is None:\n",
    "            loss = None\n",
    "        else:\n",
    "            B, T, C = logits.shape\n",
    "            logits = logits.view(B*T, C)\n",
    "            targets = targets.view(B*T)\n",
    "            loss = F.cross_entropy(logits, targets)\n",
    "\n",
    "        return logits, loss\n",
    "\n",
    "\n",
    "    def generate(self, index, max_new_tokens):\n",
    "\n",
    "        for _ in range(max_new_tokens):\n",
    "            logits, loss = self.forward(index)\n",
    "            logits = logits[:,-1,:]\n",
    "            probs = F.softmax(logits, dim = -1)\n",
    "            index_next = torch.multinomial(probs, num_samples=1)\n",
    "            index = torch.cat((index, index_next), dim=1)\n",
    "        return index\n",
    "\n",
    "model = BiogramLanguagemodel(vocab_size)\n",
    "m = model.to(device)\n",
    "\n",
    "\n",
    "context = torch.zeros((1,1), dtype=torch.long, device=device)\n",
    "generated_chars = decode(m.generate(context, max_new_tokens=500)[0].tolist())\n",
    "print(generated_chars)\n"
   ]
  },
  {
   "cell_type": "code",
   "execution_count": null,
   "metadata": {},
   "outputs": [],
   "source": []
  }
 ],
 "metadata": {
  "kernelspec": {
   "display_name": "Python 3.9.6 64-bit",
   "language": "python",
   "name": "python3"
  },
  "language_info": {
   "codemirror_mode": {
    "name": "ipython",
    "version": 3
   },
   "file_extension": ".py",
   "mimetype": "text/x-python",
   "name": "python",
   "nbconvert_exporter": "python",
   "pygments_lexer": "ipython3",
   "version": "3.9.6"
  },
  "orig_nbformat": 4,
  "vscode": {
   "interpreter": {
    "hash": "31f2aee4e71d21fbe5cf8b01ff0e069b9275f58929596ceb00d14d90e3e16cd6"
   }
  }
 },
 "nbformat": 4,
 "nbformat_minor": 2
}
